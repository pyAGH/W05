{
 "cells": [
  {
   "cell_type": "code",
   "execution_count": 1,
   "metadata": {},
   "outputs": [],
   "source": [
    "import numpy as np\n",
    "import matplotlib.pyplot as plt\n",
    "from scipy.optimize import minimize"
   ]
  },
  {
   "cell_type": "markdown",
   "metadata": {},
   "source": [
    "# Wprowadzenie:\n",
    "\n",
    "Celem algorytmu jest wyznaczenie harmonogramu optymalnej pracy zasobnika bateryjnego,\n",
    "tak aby zminimalizować całkowity koszt funkcjonowania mikrosieci, na który wpływają:\n",
    "\n",
    "a) dynamiczne ceny zakupu i sprzedaży energii (wyrażone prognozami za 12 okresów agregacji)    \n",
    "\n",
    "b) podwyższona cenowo taryfą określającą dodatkowy koszt za ponadumowny pobór energii elektrycznej, wyrażony bilansem energetycznym uzyskanym na podstawie prognozy zużycia energii elektrycznej oraz prognozy jej produkcji ze źródła PV"
   ]
  },
  {
   "cell_type": "markdown",
   "metadata": {},
   "source": [
    "## Prognozy cen zakupu oraz sprzedaży energii elektrycznej:"
   ]
  },
  {
   "cell_type": "code",
   "execution_count": 2,
   "metadata": {},
   "outputs": [
    {
     "data": {
      "image/png": "[encoded data removed]",
      "text/plain": [
       "<Figure size 1080x360 with 1 Axes>"
      ]
     },
     "metadata": {
      "needs_background": "light"
     },
     "output_type": "display_data"
    }
   ],
   "source": [
    "#Liczba danych w określonym czasie agregacji (np. 10 min)\n",
    "x=np.array([0,1,2,3,4,5,6,7,8,9,10,11,12])\n",
    "\n",
    "# Ceny energii elektrycznej od dostawcy energii (DSO)\n",
    "cDSOz = np.array([1,1, 0.8, 1, 4, 1, 1, 1, 1.58, 2.2, 2.2, 2.2, 0.3])  # cena PLN za zakup od DSO 1 kWh energii\n",
    "cDSOs = np.array([1.5,1.5, 1.2, 3, 0.8, 0.5, 36, 0.8, 1.9, 3.4, 1.05, 0.6, 0.7])  # cena PLN za sprzedaż przez DSO 1 kWh energii\n",
    "\n",
    "fig, ax = plt.subplots(figsize=(15,5))\n",
    "ax.step(x,cDSOz, label='zakup od DSO')\n",
    "ax.step(x,cDSOs,'r', label='sprzedaz do DSO')\n",
    "plt.title('Prognoza cen energii [PLN/kWh]')\n",
    "plt.grid(True)\n",
    "leg = ax.legend();"
   ]
  },
  {
   "cell_type": "markdown",
   "metadata": {},
   "source": [
    "## Prognozy zużycia energii elektrycznej oraz generacji PV:"
   ]
  },
  {
   "cell_type": "code",
   "execution_count": 3,
   "metadata": {},
   "outputs": [
    {
     "data": {
      "image/png": "[encoded data removed]",
      "text/plain": [
       "<Figure size 1080x360 with 1 Axes>"
      ]
     },
     "metadata": {
      "needs_background": "light"
     },
     "output_type": "display_data"
    }
   ],
   "source": [
    "# PV:\n",
    "pPV = np.array([0,0, 4, 1, 3, 5, 6, 6, 6, 4, 3, 1, 0])*(np.random.rand(1)/0.5)+1  # [kWh], prognoza generacji słonecznej\n",
    "\n",
    "# Load:\n",
    "pLoad = [1,1,1,1,1,1,20,20,1,1,5,5,1] # [kW], prognoza obciążenia\n",
    "\n",
    "fig, ax = plt.subplots(figsize=(15,5))\n",
    "ax.step(x,-pPV, label='PV')\n",
    "ax.step(x,pLoad, label='Load')\n",
    "ax.step(x,pLoad-pPV, label='Bilans')\n",
    "plt.title('Prognoza mocy (Load + PV [kW]')\n",
    "plt.grid(True)\n",
    "\n",
    "leg = ax.legend();"
   ]
  },
  {
   "cell_type": "markdown",
   "metadata": {},
   "source": [
    "## Całkowity koszt energii elektrycznej:"
   ]
  },
  {
   "cell_type": "code",
   "execution_count": 4,
   "metadata": {},
   "outputs": [
    {
     "name": "stdout",
     "output_type": "stream",
     "text": [
      "Koszt/h [PLN]:  [  0.     0.    -8.01  -5.01  -4.01  -4.17   8.98   8.98 -19.03 -22.71\n",
      "  -1.06   5.13]\n",
      "Koszt/12h [PLN]:  -40.91\n"
     ]
    }
   ],
   "source": [
    "koszt=np.zeros(12) #utworzenie zerowej tablicy do przechwywania kosztu energii\n",
    "bilansLoadPV=pLoad-pPV #tablica przechowując bilans energii obejmujący prognozy odbiorników oraz PV\n",
    "\n",
    "for i in range(0,12): # wyliczenie kosztów energii, w zależności od tego czy prognoza wskazuje na zakup czy jej sprzedaż\n",
    "    if bilansLoadPV[i]>0:\n",
    "        koszt[i]=round(bilansLoadPV[i]*cDSOz[i],2)\n",
    "    else:\n",
    "        koszt[i]=round(bilansLoadPV[i]*cDSOs[i],2)\n",
    "\n",
    "print(\"Koszt/h [PLN]: \",koszt)\n",
    "\n",
    "kosztAcu = np.zeros(12)\n",
    "kosztAcu[0]=koszt[0]\n",
    "for i in range(1,12): # licznik energii\n",
    "    kosztAcu[i] = round(kosztAcu[i-1] + koszt[i],2)\n",
    "\n",
    "print(\"Koszt/12h [PLN]: \",kosztAcu[-1])"
   ]
  },
  {
   "cell_type": "markdown",
   "metadata": {},
   "source": [
    "## Model zasobnika bateryjnego:"
   ]
  },
  {
   "cell_type": "code",
   "execution_count": 5,
   "metadata": {},
   "outputs": [],
   "source": [
    "# Zasobnik 1 bateryjny\n",
    "eBateriaN = 13.5  # [kWh], energia znamionowa baterii\n",
    "pBateriaIn = -5.0  # [kW], moc znamionowa (maksymalna) zwrotu energii do sieci z baterii (rozładowywania baterii)\n",
    "pBateriaOut = 5.0  # [kW], moc znamionowa (maksymalna) poboru energii z sieci (ładowania baterii)\n",
    "pBaterii = [0, 0, 0, 0, 0, 0, 0, 0, 0, 0, 0, 0] #[kW], moc baterii wypełniona wartościami startowymi, to ten element podlega optymalizacji\n",
    "eBateriiStart = 0 #[kW], poziom startowy naładowania baterii\n",
    "peakHoursDemandLimit = 15  # kW, wartość mocy (przyłączeniowej) powyżej, której naliczane są karne koszty za pobór energii (w ramach tzw. peak shaving)\n",
    "peakHoursPriceCoef = 15  # [ ], współczynnik określający koszt za przekroczenie 'peakHourDemandLimit'"
   ]
  },
  {
   "cell_type": "markdown",
   "metadata": {},
   "source": [
    "## Algorytm pracy zasobnika bateryjnego:"
   ]
  },
  {
   "cell_type": "code",
   "execution_count": null,
   "metadata": {},
   "outputs": [],
   "source": [
    "\"\"\"\"\n",
    "1. Wyznaczyć funkcję celu do optymalizacji kosztu opłat za energię elektryczną\n",
    "2. Sformułować ogranicznia: \n",
    "    - chwilowa moc baterii nie może przekroczyć jej mocy znamionowej\n",
    "    - moc ładowania/rozładowania nie może przekroczyć parametrów znamionowych\n",
    "    - energia baterii musi zawierać się w granicach [0, Enom]\n",
    "3. Zastosować metodę optymalizacji np. 'SLSQP'z biblioteki Scipy.optimize\n",
    "4. Ocenić jakość uzyskanego rozwiązania"
   ]
  },
  {
   "cell_type": "code",
   "execution_count": 21,
   "metadata": {},
   "outputs": [],
   "source": []
  },
  {
   "cell_type": "code",
   "execution_count": null,
   "metadata": {},
   "outputs": [],
   "source": []
  }
 ],
 "metadata": {
  "kernelspec": {
   "display_name": "Python 3",
   "language": "python",
   "name": "python3"
  },
  "language_info": {
   "codemirror_mode": {
    "name": "ipython",
    "version": 3
   },
   "file_extension": ".py",
   "mimetype": "text/x-python",
   "name": "python",
   "nbconvert_exporter": "python",
   "pygments_lexer": "ipython3",
   "version": "3.9.0"
  }
 },
 "nbformat": 4,
 "nbformat_minor": 4
}
